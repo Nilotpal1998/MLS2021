{
 "cells": [
  {
   "cell_type": "markdown",
   "metadata": {},
   "source": [
    "\n",
    "\n",
    "<h1>Gaussia Assumption Over Linear Regression</h1><b>\n",
    "    <h3>Nilotpal Sarkar</h3></b>\n",
    "    <b><h3>February 2021</h3></b>\n",
    "\n",
    "\n",
    "\n",
    "\n",
    "\n",
    "\n",
    "  <b><h3>Introduction</h3></b>\n",
    "Linear regression is the methodology to model the relationship between two variables by fitting a line to the observed data. there are mainly two types of variables present which are independent and dependent variable.\n",
    "\n",
    "<b><h3>Probabilistic Modelling</h3></b>\n",
    "\n",
    "<b><h3>Linear Model</h3></b>\n",
    "\n",
    "\n",
    "\n",
    "$y_{i} \\simeq \\theta^T x_{i}$ \n",
    "   \n",
    " $y_{i} = \\theta^T x_{i} + \\epsilon_{i}$ , where $\\epsilon_{i}\\sim \\mathcal{N}(0,\\sigma^{2}) $ \n",
    "\n",
    "Here $\\epsilon_{i}$'s are i.i.d random variables. \n",
    "\n",
    "\n",
    "$\\epsilon_{i} \\sim \\mathcal{N} (0,\\sigma^{2})$ \n",
    "    \n",
    "$\\Rightarrow p(\\epsilon_{i}) = \\frac{1}{\\sqrt{2 \\pi}\\sigma} exp \\left (^ {-\\frac{\\epsilon_{i}^2}{2 \\sigma^2}}\\right)$ \n",
    "    \n",
    "$\\Rightarrow p(y_{i}-\\theta^T x_{i}) = \\frac{1}{\\sqrt{2 \\pi}\\sigma} exp \\left (^ {-\\frac{(y_{i}-\\theta^T x_{i})^2}{2 \\sigma^2}}\\right)$ \n",
    "    \n",
    "However the conventional way is, \n",
    "    \n",
    "$p(y_{i}|x_{i};\\theta) = \\frac{1}{\\sqrt{2 \\pi}\\sigma} exp \\left (^ {-\\frac{(y_{i}-\\theta^T x_{i})^2}{2 \\sigma^2}}\\right)$ \n",
    "    \n",
    "\n",
    "\n",
    "\n",
    "\n",
    "<b><h3>Parameter Estimation</h3></b>\n",
    "\n",
    "Suppose, we are given with a dataset, $\\mathcal{D}$  = { $x_{i}, y_{i}$}$_{i=1}^{m}$ \n",
    "\n",
    "Then, Bayes' Theorem States that,\n",
    "\n",
    "        \n",
    "$P(\\theta | \\mathcal{D} )  = P(\\mathcal{D} | \\theta) . P(\\theta)$ \n",
    "    \n",
    "$\\qquad  = P(\\theta , \\mathcal{D})\\frac{1}{P(\\mathcal{D})}$ \n",
    "    \n",
    "\n",
    "\n",
    "\n",
    "\n",
    "\n",
    "\n",
    "\n",
    "\n",
    "\n",
    "\n",
    "\n",
    "\n"
   ]
  },
  {
   "cell_type": "markdown",
   "metadata": {
    "ExecuteTime": {
     "end_time": "2021-02-25T16:38:15.228541Z",
     "start_time": "2021-02-25T16:38:15.209163Z"
    }
   },
   "source": [
    "\n",
    "We will make a Gaussian model assumption with $\\theta \\in \\mathbb{R}^n$  \n",
    "\n",
    "  \n",
    "\n",
    "$\\theta^*  = argmax_\\theta  \\mathcal{L} (\\theta | \\mathcal{D})$ \n",
    "\n",
    "$= argmax_\\theta P(\\mathcal{D}  |  \\theta))$ \n",
    "         \n",
    "$= argmax_\\theta P(y_{1},x_{1},...,y_{m},x_{m};\\theta)$ \n",
    "        \n",
    "$= argmax_\\theta \\prod_{i = 1}^{m} P(y_{i},x_{i} ; \\theta)$ \n",
    "          \n",
    "$= argmax_\\theta \\prod_{i = 1}^{m} [P(y_{i}|x_{i} ; \\theta). P(x_{i}; \\theta ]$ \n",
    "          \n",
    "$= argmax_\\theta \\prod_{i = 1}^{m} [P(y_{i}| x_{i} ; \\theta)] . P(x_{i})$\n",
    "          \n",
    "$= argmax_\\theta \\prod_{i = 1}^{m} [P(y_{i}| x_{i} ; \\theta)]$\n",
    "          \n",
    "$= argmax_\\theta\\sum_{i = 1}^{m}  log P(y_{i} | x_{i} ; \\theta )$ \n",
    "          \n",
    "$= argmax_\\theta\\sum_{i=1}^{m} [log(\\frac{1}{\\sqrt{2 \\pi}\\sigma}) + log(exp(^-\\frac{(\\theta^T x_{i} - y_{i})^2}{2 \\sigma^2}))]$\n",
    "          \n",
    "$= argmax_\\theta-\\frac{1}{2 \\sigma^2}\\sum_{i=1}^{m} (\\theta^T x_{i} - y_{i})^2$ \n",
    "          \n",
    "$= argmax_\\theta\\frac{1}{n}\\quad\\sum_{i=1}^{m} (\\theta^T x_{i} - y_{i})^2$ \n",
    "\n",
    "\n",
    "\n"
   ]
  },
  {
   "cell_type": "markdown",
   "metadata": {},
   "source": [
    "<b><h3>Conclusion</h3></b>\n",
    "We thus come to the conclusion that the error assumption under linear assumption leads to least square assumption. "
   ]
  },
  {
   "cell_type": "code",
   "execution_count": null,
   "metadata": {},
   "outputs": [],
   "source": []
  }
 ],
 "metadata": {
  "author": "Gaussian Assumption Over Linear Regression",
  "kernelspec": {
   "display_name": "Python 3",
   "language": "python",
   "name": "python3"
  },
  "language_info": {
   "codemirror_mode": {
    "name": "ipython",
    "version": 3
   },
   "file_extension": ".py",
   "mimetype": "text/x-python",
   "name": "python",
   "nbconvert_exporter": "python",
   "pygments_lexer": "ipython3",
   "version": "3.8.5"
  },
  "latex_envs": {
   "LaTeX_envs_menu_present": true,
   "autoclose": false,
   "autocomplete": true,
   "bibliofile": "biblio.bib",
   "cite_by": "apalike",
   "current_citInitial": 1,
   "eqLabelWithNumbers": true,
   "eqNumInitial": 1,
   "hotkeys": {
    "equation": "Ctrl-E",
    "itemize": "Ctrl-I"
   },
   "labels_anchors": false,
   "latex_user_defs": false,
   "report_style_numbering": false,
   "user_envs_cfg": false
  },
  "toc": {
   "base_numbering": 1,
   "nav_menu": {},
   "number_sections": true,
   "sideBar": true,
   "skip_h1_title": false,
   "title_cell": "Table of Contents",
   "title_sidebar": "Contents",
   "toc_cell": false,
   "toc_position": {},
   "toc_section_display": true,
   "toc_window_display": false
  }
 },
 "nbformat": 4,
 "nbformat_minor": 4
}
